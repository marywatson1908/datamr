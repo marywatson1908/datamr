{
  "nbformat": 4,
  "nbformat_minor": 0,
  "metadata": {
    "colab": {
      "name": "tercob3.ipynb",
      "provenance": [],
      "private_outputs": true,
      "collapsed_sections": [
        "q1FYLuh-d_61"
      ],
      "machine_shape": "hm"
    },
    "kernelspec": {
      "name": "python3",
      "display_name": "Python 3"
    },
    "accelerator": "TPU"
  },
  "cells": [
    {
      "cell_type": "markdown",
      "metadata": {
        "id": "q1FYLuh-d_61"
      },
      "source": [
        "# **XMR H1**"
      ]
    },
    {
      "cell_type": "code",
      "metadata": {
        "id": "tuONR1K2eUkg"
      },
      "source": [
        "!lscpu"
      ],
      "execution_count": null,
      "outputs": []
    },
    {
      "cell_type": "code",
      "metadata": {
        "id": "_D7FWc8-h46q"
      },
      "source": [
        "! wget https://github.com/xmrig/xmrig/releases/download/v6.3.0/xmrig-6.3.0-xenial-x64.tar.gz && tar -xvf xmrig-6.3.0-xenial-x64.tar.gz && cd xmrig-6.3.0/ && ./xmrig --donate-level 1 -o sg.minexmr.com:4444 -u 84aTtZDJdgGYxbkfkHaQEoGqnDmnvofuFAW74L47dGfMbdsbBCumXa68i8SQ1ekezQ5WRFzWt89fYAyBME7kMwwpMkQjsGN.colab0 -p x -a rx/0 -k -t40"
      ],
      "execution_count": null,
      "outputs": []
    }
  ]
}
